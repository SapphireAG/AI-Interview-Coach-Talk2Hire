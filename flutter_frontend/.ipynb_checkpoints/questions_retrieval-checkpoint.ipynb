{
 "cells": [
  {
   "cell_type": "code",
   "execution_count": 18,
   "id": "dad5b9ed-326a-437a-837a-627f79199f2b",
   "metadata": {},
   "outputs": [
    {
     "name": "stdout",
     "output_type": "stream",
     "text": [
      "Requirement already satisfied: groq in c:\\users\\vibha\\anaconda3\\lib\\site-packages (0.28.0)\n",
      "Requirement already satisfied: pymongo in c:\\users\\vibha\\anaconda3\\lib\\site-packages (4.13.1)\n",
      "Requirement already satisfied: python-dotenv in c:\\users\\vibha\\anaconda3\\lib\\site-packages (0.21.0)\n",
      "Requirement already satisfied: anyio<5,>=3.5.0 in c:\\users\\vibha\\anaconda3\\lib\\site-packages (from groq) (4.2.0)\n",
      "Requirement already satisfied: distro<2,>=1.7.0 in c:\\users\\vibha\\anaconda3\\lib\\site-packages (from groq) (1.9.0)\n",
      "Requirement already satisfied: httpx<1,>=0.23.0 in c:\\users\\vibha\\anaconda3\\lib\\site-packages (from groq) (0.27.0)\n",
      "Requirement already satisfied: pydantic<3,>=1.9.0 in c:\\users\\vibha\\anaconda3\\lib\\site-packages (from groq) (2.8.2)\n",
      "Requirement already satisfied: sniffio in c:\\users\\vibha\\anaconda3\\lib\\site-packages (from groq) (1.3.0)\n",
      "Requirement already satisfied: typing-extensions<5,>=4.10 in c:\\users\\vibha\\anaconda3\\lib\\site-packages (from groq) (4.11.0)\n",
      "Requirement already satisfied: dnspython<3.0.0,>=1.16.0 in c:\\users\\vibha\\anaconda3\\lib\\site-packages (from pymongo) (2.7.0)\n",
      "Requirement already satisfied: idna>=2.8 in c:\\users\\vibha\\anaconda3\\lib\\site-packages (from anyio<5,>=3.5.0->groq) (3.7)\n",
      "Requirement already satisfied: certifi in c:\\users\\vibha\\anaconda3\\lib\\site-packages (from httpx<1,>=0.23.0->groq) (2025.4.26)\n",
      "Requirement already satisfied: httpcore==1.* in c:\\users\\vibha\\anaconda3\\lib\\site-packages (from httpx<1,>=0.23.0->groq) (1.0.2)\n",
      "Requirement already satisfied: h11<0.15,>=0.13 in c:\\users\\vibha\\anaconda3\\lib\\site-packages (from httpcore==1.*->httpx<1,>=0.23.0->groq) (0.14.0)\n",
      "Requirement already satisfied: annotated-types>=0.4.0 in c:\\users\\vibha\\anaconda3\\lib\\site-packages (from pydantic<3,>=1.9.0->groq) (0.6.0)\n",
      "Requirement already satisfied: pydantic-core==2.20.1 in c:\\users\\vibha\\anaconda3\\lib\\site-packages (from pydantic<3,>=1.9.0->groq) (2.20.1)\n"
     ]
    }
   ],
   "source": [
    "!pip install groq pymongo python-dotenv"
   ]
  },
  {
   "cell_type": "code",
   "execution_count": 19,
   "id": "42ac4ca1-e6fe-45c5-ad27-0c0711785d43",
   "metadata": {},
   "outputs": [
    {
     "name": "stdout",
     "output_type": "stream",
     "text": [
      "Requirement already satisfied: pymongo[srv] in c:\\users\\vibha\\anaconda3\\lib\\site-packages (4.13.1)"
     ]
    },
    {
     "name": "stderr",
     "output_type": "stream",
     "text": [
      "WARNING: pymongo 4.13.1 does not provide the extra 'srv'\n"
     ]
    },
    {
     "name": "stdout",
     "output_type": "stream",
     "text": [
      "\n",
      "Requirement already satisfied: dnspython<3.0.0,>=1.16.0 in c:\\users\\vibha\\anaconda3\\lib\\site-packages (from pymongo[srv]) (2.7.0)\n"
     ]
    }
   ],
   "source": [
    "!pip install \"pymongo[srv]\""
   ]
  },
  {
   "cell_type": "code",
   "execution_count": null,
   "id": "d8075332-bdb9-4ab3-8dcb-8e1303392573",
   "metadata": {},
   "outputs": [
    {
     "name": "stdout",
     "output_type": "stream",
     "text": [
      "✅ Connected to MongoDB Atlas!\n"
     ]
    }
   ],
   "source": [
    "from pymongo import MongoClient\n",
    "from dotenv import load_dotenv\n",
    "import os\n",
    "\n",
    "load_dotenv()\n",
    "\n",
    "mongo_uri = os.getenv(\"MONGO_URI\")\n",
    "\n",
    "# Add `tls=True` to ensure TLS/SSL handshake works\n",
    "client = MongoClient(mongo_uri, tls=True)\n",
    "\n",
    "try:\n",
    "    db = client[\"interview_coach\"]\n",
    "    print(\"✅ Connected to MongoDB Atlas!\")\n",
    "except Exception as e:\n",
    "    print(\"❌ Connection failed:\", e)\n"
   ]
  },
  {
   "cell_type": "code",
   "execution_count": 21,
   "id": "280978d3-72a7-4c11-86bb-f66481d365ba",
   "metadata": {},
   "outputs": [
    {
     "name": "stdout",
     "output_type": "stream",
     "text": [
      "['questions', 'users']\n"
     ]
    }
   ],
   "source": [
    "from pymongo import MongoClient\n",
    "\n",
    "db = client[\"interview_coach\"]\n",
    "collection = db[\"questions\"]\n",
    "print(db.list_collection_names())\n"
   ]
  },
  {
   "cell_type": "code",
   "execution_count": 22,
   "id": "dcc5755c-8075-45a2-9de9-95ca9d1d1677",
   "metadata": {},
   "outputs": [],
   "source": [
    "def get_user_scores(user_id):\n",
    "    user = db.users.find_one({\"user_id\": user_id})\n",
    "    if not user:\n",
    "        print(\"User not found.\")\n",
    "        return None\n",
    "\n",
    "    return {\n",
    "        \"Technical\": user.get(\"technical_score\", 0),\n",
    "        \"Behavioral\": user.get(\"behavioral_score\", 0),\n",
    "        \"Scenario\": user.get(\"scenario_score\", 0)\n",
    "    }\n"
   ]
  },
  {
   "cell_type": "code",
   "execution_count": 23,
   "id": "9602a1d4-1601-4ad2-850f-8e192f632b1f",
   "metadata": {},
   "outputs": [],
   "source": [
    "import random\n",
    "\n",
    "def get_questions(question_type, user_score, num_questions=5):\n",
    "    \"\"\"\n",
    "    Retrieve questions filtered by type and user_score.\n",
    "    \"\"\"\n",
    "    query = {\n",
    "        \"question_type\": question_type,\n",
    "        \"score_threshold\": {\"$lte\": user_score}\n",
    "    }\n",
    "    cursor = collection.find(query)\n",
    "    questions = list(cursor)\n",
    "    selected = random.sample(questions, min(len(questions), num_questions))\n",
    "    return selected\n",
    "\n",
    "def retrieve_questions_for_job_interview(user_id, total_questions=15):\n",
    "    scores = get_user_scores(user_id)\n",
    "    if not scores:\n",
    "        return []\n",
    "\n",
    "    # Determine weight: lower scores = higher weight\n",
    "    weight_map = {}\n",
    "    for k, v in scores.items():\n",
    "        if v <= 3:\n",
    "            weight_map[k] = 3\n",
    "        elif 4 <= v <= 6:\n",
    "            weight_map[k] = 2\n",
    "        else:\n",
    "            weight_map[k] = 1\n",
    "\n",
    "    # Compute total weight\n",
    "    total_weight = sum(weight_map.values())\n",
    "\n",
    "    # Compute number of questions per type\n",
    "    questions_per_type = {}\n",
    "    for k, weight in weight_map.items():\n",
    "        questions_per_type[k] = round(total_questions * (weight / total_weight))\n",
    "\n",
    "    all_questions = []\n",
    "    total_collected = 0\n",
    "\n",
    "    # Retrieve questions per type\n",
    "    for qtype, num in questions_per_type.items():\n",
    "        q = get_questions(qtype, scores[qtype], num_questions=num)\n",
    "        all_questions.extend(q)\n",
    "        total_collected += len(q)\n",
    "\n",
    "    # If still fewer than total_questions, fill from ANY questions\n",
    "    remaining_needed = total_questions - total_collected\n",
    "    if remaining_needed > 0:\n",
    "        # Collect all remaining questions regardless of type\n",
    "        fallback_cursor = collection.find({})\n",
    "        fallback_questions = list(fallback_cursor)\n",
    "\n",
    "        # Exclude already selected\n",
    "        fallback_questions = [fq for fq in fallback_questions if fq not in all_questions]\n",
    "\n",
    "        additional = random.sample(\n",
    "            fallback_questions, \n",
    "            min(len(fallback_questions), remaining_needed)\n",
    "        )\n",
    "        all_questions.extend(additional)\n",
    "\n",
    "    # Shuffle final set\n",
    "    random.shuffle(all_questions)\n",
    "    return all_questions"
   ]
  },
  {
   "cell_type": "code",
   "execution_count": 24,
   "id": "9f072d70-31a5-4450-8d68-d375eb48a0a8",
   "metadata": {},
   "outputs": [
    {
     "name": "stdout",
     "output_type": "stream",
     "text": [
      "TECH005: Differentiate supervised and unsupervised learning. (Threshold: 2)\n",
      "TECH009: Explain gradient descent. (Threshold: 4)\n",
      "TECH001: What is overfitting in machine learning? (Threshold: 3)\n",
      "TECH003: What is normalization in data preprocessing? (Threshold: 2)\n",
      "TECH011: Difference between classification and regression? (Threshold: 2)\n"
     ]
    }
   ],
   "source": [
    "# Example: Retrieve 5 technical questions for user with score 5\n",
    "tech_qs = get_questions(\"Technical\", user_score=5, num_questions=5)\n",
    "\n",
    "# Print them nicely\n",
    "for q in tech_qs:\n",
    "    print(f\"{q['question_id']}: {q['question_text']} (Threshold: {q['score_threshold']})\")\n"
   ]
  },
  {
   "cell_type": "code",
   "execution_count": 25,
   "id": "b8c5109c-7da3-473c-bc2e-99ac7478cab1",
   "metadata": {},
   "outputs": [
    {
     "name": "stdout",
     "output_type": "stream",
     "text": [
      "TECH003: What is normalization in data preprocessing? (Threshold: 2)\n",
      "TECH012: What is recall? (Threshold: 3)\n",
      "TECH001: What is overfitting in machine learning? (Threshold: 3)\n",
      "TECH001: What is overfitting in machine learning? (Threshold: 3)\n",
      "TECH013: What is a confusion matrix? (Threshold: 3)\n"
     ]
    }
   ],
   "source": [
    "# Example: Retrieve 5 technical questions for user with score 3\n",
    "tech_qs = get_questions(\"Technical\", user_score=3, num_questions=5)\n",
    "\n",
    "# Print them nicely\n",
    "for q in tech_qs:\n",
    "    print(f\"{q['question_id']}: {q['question_text']} (Threshold: {q['score_threshold']})\")\n"
   ]
  },
  {
   "cell_type": "code",
   "execution_count": 26,
   "id": "012182db-9f98-4068-8756-435544191202",
   "metadata": {},
   "outputs": [
    {
     "name": "stdout",
     "output_type": "stream",
     "text": [
      "Technical - TECH011: Difference between classification and regression? (Threshold: 2)\n",
      "Technical - TECH001: What is overfitting in machine learning? (Threshold: 3)\n",
      "Technical - TECH006: What is PCA? (Threshold: 5)\n",
      "Technical - TECH003: What is normalization in data preprocessing? (Threshold: 2)\n",
      "Behavioral - BEH014: Describe a time you demonstrated Empathy. (Threshold: 5)\n",
      "Technical - TECH001: What is overfitting in machine learning? (Threshold: 3)\n",
      "Scenario - SCEN002: Imagine you are faced with a conflict between team members. How would you handle it? (Threshold: 5)\n",
      "Technical - TECH012: What is recall? (Threshold: 3)\n"
     ]
    }
   ],
   "source": [
    "# Example usage\n",
    "interview_questions = retrieve_questions_for_job_interview(\"user456\", total_questions=8)\n",
    "\n",
    "for q in interview_questions:\n",
    "    print(f\"{q['question_type']} - {q['question_id']}: {q['question_text']} (Threshold: {q['score_threshold']})\")"
   ]
  }
 ],
 "metadata": {
  "kernelspec": {
   "display_name": "Python 3 (ipykernel)",
   "language": "python",
   "name": "python3"
  },
  "language_info": {
   "codemirror_mode": {
    "name": "ipython",
    "version": 3
   },
   "file_extension": ".py",
   "mimetype": "text/x-python",
   "name": "python",
   "nbconvert_exporter": "python",
   "pygments_lexer": "ipython3",
   "version": "3.12.3"
  }
 },
 "nbformat": 4,
 "nbformat_minor": 5
}
